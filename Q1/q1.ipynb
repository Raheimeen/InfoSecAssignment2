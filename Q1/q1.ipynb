{
 "cells": [
  {
   "cell_type": "code",
   "execution_count": 3,
   "metadata": {},
   "outputs": [
    {
     "name": "stdout",
     "output_type": "stream",
     "text": [
      "Requirement already satisfied: pycryptodome in /usr/local/python/3.10.8/lib/python3.10/site-packages (3.19.0)\n",
      "\n",
      "\u001b[1m[\u001b[0m\u001b[34;49mnotice\u001b[0m\u001b[1;39;49m]\u001b[0m\u001b[39;49m A new release of pip is available: \u001b[0m\u001b[31;49m23.3\u001b[0m\u001b[39;49m -> \u001b[0m\u001b[32;49m23.3.1\u001b[0m\n",
      "\u001b[1m[\u001b[0m\u001b[34;49mnotice\u001b[0m\u001b[1;39;49m]\u001b[0m\u001b[39;49m To update, run: \u001b[0m\u001b[32;49mpip install --upgrade pip\u001b[0m\n",
      "Note: you may need to restart the kernel to use updated packages.\n"
     ]
    }
   ],
   "source": [
    "pip install pycryptodome"
   ]
  },
  {
   "cell_type": "code",
   "execution_count": 7,
   "metadata": {},
   "outputs": [
    {
     "name": "stderr",
     "output_type": "stream",
     "text": [
      "sh: 1: cls: not found\n",
      "sh: 1: cls: not found\n",
      "sh: 1: cls: not found\n"
     ]
    },
    {
     "ename": "ValueError",
     "evalue": "invalid literal for int() with base 10: ''",
     "output_type": "error",
     "traceback": [
      "\u001b[0;31m---------------------------------------------------------------------------\u001b[0m",
      "\u001b[0;31mValueError\u001b[0m                                Traceback (most recent call last)",
      "\u001b[1;32m/workspaces/InfoSecAssignment2/q1.ipynb Cell 2\u001b[0m line \u001b[0;36m8\n\u001b[1;32m     <a href='vscode-notebook-cell://codespaces%2Bpsychic-yodel-g9jv7776g5j3jj4/workspaces/InfoSecAssignment2/q1.ipynb#W1sdnNjb2RlLXJlbW90ZQ%3D%3D?line=79'>80</a>\u001b[0m \u001b[39mwhile\u001b[39;00m \u001b[39mTrue\u001b[39;00m:\n\u001b[1;32m     <a href='vscode-notebook-cell://codespaces%2Bpsychic-yodel-g9jv7776g5j3jj4/workspaces/InfoSecAssignment2/q1.ipynb#W1sdnNjb2RlLXJlbW90ZQ%3D%3D?line=80'>81</a>\u001b[0m     clear()\n\u001b[0;32m---> <a href='vscode-notebook-cell://codespaces%2Bpsychic-yodel-g9jv7776g5j3jj4/workspaces/InfoSecAssignment2/q1.ipynb#W1sdnNjb2RlLXJlbW90ZQ%3D%3D?line=81'>82</a>\u001b[0m     choice \u001b[39m=\u001b[39m \u001b[39mint\u001b[39;49m(\u001b[39minput\u001b[39;49m(\n\u001b[1;32m     <a href='vscode-notebook-cell://codespaces%2Bpsychic-yodel-g9jv7776g5j3jj4/workspaces/InfoSecAssignment2/q1.ipynb#W1sdnNjb2RlLXJlbW90ZQ%3D%3D?line=82'>83</a>\u001b[0m         \u001b[39m\"\u001b[39;49m\u001b[39m1. Press \u001b[39;49m\u001b[39m'\u001b[39;49m\u001b[39m1\u001b[39;49m\u001b[39m'\u001b[39;49m\u001b[39m to encrypt file.\u001b[39;49m\u001b[39m\\n\u001b[39;49;00m\u001b[39m2. Press \u001b[39;49m\u001b[39m'\u001b[39;49m\u001b[39m2\u001b[39;49m\u001b[39m'\u001b[39;49m\u001b[39m to decrypt file.\u001b[39;49m\u001b[39m\\n\u001b[39;49;00m\u001b[39m3. Press \u001b[39;49m\u001b[39m'\u001b[39;49m\u001b[39m3\u001b[39;49m\u001b[39m'\u001b[39;49m\u001b[39m to Encrypt all files in the directory.\u001b[39;49m\u001b[39m\\n\u001b[39;49;00m\u001b[39m4. Press \u001b[39;49m\u001b[39m'\u001b[39;49m\u001b[39m4\u001b[39;49m\u001b[39m'\u001b[39;49m\u001b[39m to decrypt all files in the directory.\u001b[39;49m\u001b[39m\\n\u001b[39;49;00m\u001b[39m5. Press \u001b[39;49m\u001b[39m'\u001b[39;49m\u001b[39m5\u001b[39;49m\u001b[39m'\u001b[39;49m\u001b[39m to exit.\u001b[39;49m\u001b[39m\\n\u001b[39;49;00m\u001b[39m\"\u001b[39;49m))\n\u001b[1;32m     <a href='vscode-notebook-cell://codespaces%2Bpsychic-yodel-g9jv7776g5j3jj4/workspaces/InfoSecAssignment2/q1.ipynb#W1sdnNjb2RlLXJlbW90ZQ%3D%3D?line=83'>84</a>\u001b[0m     clear()\n\u001b[1;32m     <a href='vscode-notebook-cell://codespaces%2Bpsychic-yodel-g9jv7776g5j3jj4/workspaces/InfoSecAssignment2/q1.ipynb#W1sdnNjb2RlLXJlbW90ZQ%3D%3D?line=84'>85</a>\u001b[0m     \u001b[39mif\u001b[39;00m choice \u001b[39m==\u001b[39m \u001b[39m1\u001b[39m:\n",
      "\u001b[0;31mValueError\u001b[0m: invalid literal for int() with base 10: ''"
     ]
    }
   ],
   "source": [
    "\n",
    "from Crypto import Random\n",
    "from Crypto.Cipher import AES\n",
    "import os\n",
    "import os.path\n",
    "from os import listdir\n",
    "from os.path import isfile, join\n",
    "import time\n",
    "\n",
    "\n",
    "class Encryptor:\n",
    "    def __init__(self, key):\n",
    "        self.key = key\n",
    "\n",
    "    def pad(self, s):\n",
    "        return s + b\"\\0\" * (AES.block_size - len(s) % AES.block_size)\n",
    "\n",
    "    def encrypt(self, message, key, key_size=256):\n",
    "        message = self.pad(message)\n",
    "        iv = Random.new().read(AES.block_size)\n",
    "        cipher = AES.new(key, AES.MODE_CBC, iv)\n",
    "        return iv + cipher.encrypt(message)\n",
    "\n",
    "    def encrypt_file(self, file_name):\n",
    "        with open(file_name, 'rb') as fo:\n",
    "            plaintext = fo.read()\n",
    "        enc = self.encrypt(plaintext, self.key)\n",
    "        with open(file_name + \".enc\", 'wb') as fo:\n",
    "            fo.write(enc)\n",
    "        os.remove(file_name)\n",
    "\n",
    "    def decrypt(self, ciphertext, key):\n",
    "        iv = ciphertext[:AES.block_size]\n",
    "        cipher = AES.new(key, AES.MODE_CBC, iv)\n",
    "        plaintext = cipher.decrypt(ciphertext[AES.block_size:])\n",
    "        return plaintext.rstrip(b\"\\0\")\n",
    "\n",
    "    def decrypt_file(self, file_name):\n",
    "        with open(file_name, 'rb') as fo:\n",
    "            ciphertext = fo.read()\n",
    "        dec = self.decrypt(ciphertext, self.key)\n",
    "        with open(file_name[:-4], 'wb') as fo:\n",
    "            fo.write(dec)\n",
    "        os.remove(file_name)\n",
    "\n",
    "    def getAllFiles(self):\n",
    "        dir_path = os.path.dirname(os.path.realpath(__file__))\n",
    "        dirs = []\n",
    "        for dirName, subdirList, fileList in os.walk(dir_path):\n",
    "            for fname in fileList:\n",
    "                if (fname != 'script.py' and fname != 'data.txt.enc'):\n",
    "                    dirs.append(dirName + \"\\\\\" + fname)\n",
    "        return dirs\n",
    "\n",
    "    def encrypt_all_files(self):\n",
    "        dirs = self.getAllFiles()\n",
    "        for file_name in dirs:\n",
    "            self.encrypt_file(file_name)\n",
    "\n",
    "    def decrypt_all_files(self):\n",
    "        dirs = self.getAllFiles()\n",
    "        for file_name in dirs:\n",
    "            self.decrypt_file(file_name)\n",
    "\n",
    "\n",
    "key = b'[EX\\xc8\\xd5\\xbfI{\\xa2$\\x05(\\xd5\\x18\\xbf\\xc0\\x85)\\x10nc\\x94\\x02)j\\xdf\\xcb\\xc4\\x94\\x9d(\\x9e'\n",
    "enc = Encryptor(key)\n",
    "clear = lambda: os.system('cls')\n",
    "\n",
    "if os.path.isfile('data.txt.enc'):\n",
    "    while True:\n",
    "        password = str(input(\"Enter password: \"))\n",
    "        enc.decrypt_file(\"data.txt.enc\")\n",
    "        p = ''\n",
    "        with open(\"data.txt\", \"r\") as f:\n",
    "            p = f.readlines()\n",
    "        if p[0] == password:\n",
    "            enc.encrypt_file(\"data.txt\")\n",
    "            break\n",
    "\n",
    "    while True:\n",
    "        clear()\n",
    "        choice = int(input(\n",
    "            \"1. Press '1' to encrypt file.\\n2. Press '2' to decrypt file.\\n3. Press '3' to Encrypt all files in the directory.\\n4. Press '4' to decrypt all files in the directory.\\n5. Press '5' to exit.\\n\"))\n",
    "        clear()\n",
    "        if choice == 1:\n",
    "            enc.encrypt_file(str(input(\"Enter name of file to encrypt: \")))\n",
    "        elif choice == 2:\n",
    "            enc.decrypt_file(str(input(\"Enter name of file to decrypt: \")))\n",
    "        elif choice == 3:\n",
    "            enc.encrypt_all_files()\n",
    "        elif choice == 4:\n",
    "            enc.decrypt_all_files()\n",
    "        elif choice == 5:\n",
    "            exit()\n",
    "        else:\n",
    "            print(\"Please select a valid option!\")\n",
    "\n",
    "else:\n",
    "    while True:\n",
    "        clear()\n",
    "        password = str(input(\"Setting up stuff. Enter a password that will be used for decryption: \"))\n",
    "        repassword = str(input(\"Confirm password: \"))\n",
    "        if password == repassword:\n",
    "            break\n",
    "        else:\n",
    "            print(\"Passwords Mismatched!\")\n",
    "    f = open(\"data.txt\", \"w+\")\n",
    "    f.write(password)\n",
    "    f.close()\n",
    "    enc.encrypt_file(\"data.txt\")\n",
    "    print(\"Please restart the program to complete the setup\")\n",
    "    time.sleep(15)"
   ]
  },
  {
   "cell_type": "code",
   "execution_count": null,
   "metadata": {},
   "outputs": [],
   "source": []
  }
 ],
 "metadata": {
  "kernelspec": {
   "display_name": "Python 3",
   "language": "python",
   "name": "python3"
  },
  "language_info": {
   "codemirror_mode": {
    "name": "ipython",
    "version": 3
   },
   "file_extension": ".py",
   "mimetype": "text/x-python",
   "name": "python",
   "nbconvert_exporter": "python",
   "pygments_lexer": "ipython3",
   "version": "3.10.8"
  }
 },
 "nbformat": 4,
 "nbformat_minor": 2
}
